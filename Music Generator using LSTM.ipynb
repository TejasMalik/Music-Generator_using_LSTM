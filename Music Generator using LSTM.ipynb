{
 "cells": [
  {
   "cell_type": "code",
   "execution_count": 1,
   "metadata": {
    "executionInfo": {
     "elapsed": 4718,
     "status": "ok",
     "timestamp": 1601441046463,
     "user": {
      "displayName": "Tejas Malik",
      "photoUrl": "https://lh3.googleusercontent.com/a-/AOh14Gg2UfXQuz0Tq0m0A2wcVXoRWWkr9W9_230vnTOQXw=s64",
      "userId": "10799008024925547284"
     },
     "user_tz": -330
    },
    "id": "jnlJ4u6HCijW"
   },
   "outputs": [],
   "source": [
    "import glob\n",
    "import pickle\n",
    "import numpy\n",
    "from music21 import converter, instrument, note, chord, stream\n",
    "from keras.models import Sequential, load_model\n",
    "from keras.layers import Dense\n",
    "from keras.layers import Dropout\n",
    "from keras.layers import LSTM\n",
    "from keras.layers import Activation\n",
    "from keras.utils import np_utils\n",
    "from keras.callbacks import ModelCheckpoint, EarlyStopping"
   ]
  },
  {
   "cell_type": "code",
   "execution_count": 2,
   "metadata": {
    "colab": {
     "base_uri": "https://localhost:8080/",
     "height": 104
    },
    "executionInfo": {
     "elapsed": 22508,
     "status": "ok",
     "timestamp": 1601441078159,
     "user": {
      "displayName": "Tejas Malik",
      "photoUrl": "https://lh3.googleusercontent.com/a-/AOh14Gg2UfXQuz0Tq0m0A2wcVXoRWWkr9W9_230vnTOQXw=s64",
      "userId": "10799008024925547284"
     },
     "user_tz": -330
    },
    "id": "_FZ1kKl5CyvM",
    "outputId": "263722c6-d1b2-44a1-bb72-c55c3e45b820"
   },
   "outputs": [
    {
     "name": "stdout",
     "output_type": "stream",
     "text": [
      "Cloning into 'Classical-Piano-Composer'...\n",
      "remote: Enumerating objects: 334, done.\u001b[K\n",
      "remote: Total 334 (delta 0), reused 0 (delta 0), pack-reused 334\u001b[K\n",
      "Receiving objects: 100% (334/334), 721.79 MiB | 39.58 MiB/s, done.\n",
      "Resolving deltas: 100% (41/41), done.\n"
     ]
    }
   ],
   "source": [
    "!git clone https://github.com/Skuldur/Classical-Piano-Composer.git"
   ]
  },
  {
   "cell_type": "markdown",
   "metadata": {
    "id": "RizNBhLuFeHC"
   },
   "source": [
    "## **Getting Notes from Midi Files**"
   ]
  },
  {
   "cell_type": "code",
   "execution_count": 3,
   "metadata": {
    "colab": {
     "base_uri": "https://localhost:8080/",
     "height": 1000
    },
    "executionInfo": {
     "elapsed": 61974,
     "status": "ok",
     "timestamp": 1601441149211,
     "user": {
      "displayName": "Tejas Malik",
      "photoUrl": "https://lh3.googleusercontent.com/a-/AOh14Gg2UfXQuz0Tq0m0A2wcVXoRWWkr9W9_230vnTOQXw=s64",
      "userId": "10799008024925547284"
     },
     "user_tz": -330
    },
    "id": "l8FJOQkdEZdk",
    "outputId": "4a14370f-67fa-40d3-9247-b6aee0b30722"
   },
   "outputs": [
    {
     "name": "stdout",
     "output_type": "stream",
     "text": [
      "Parsing Classical-Piano-Composer/midi_songs/BlueStone_LastDungeon.mid\n",
      "Parsing Classical-Piano-Composer/midi_songs/ff8-lfp.mid\n",
      "Parsing Classical-Piano-Composer/midi_songs/dontbeafraid.mid\n",
      "Parsing Classical-Piano-Composer/midi_songs/thenightmarebegins.mid\n",
      "Parsing Classical-Piano-Composer/midi_songs/Gold_Silver_Rival_Battle.mid\n",
      "Parsing Classical-Piano-Composer/midi_songs/ff11_awakening_piano.mid\n",
      "Parsing Classical-Piano-Composer/midi_songs/Ff7-Jenova_Absolute.mid\n",
      "Parsing Classical-Piano-Composer/midi_songs/JENOVA.mid\n",
      "Parsing Classical-Piano-Composer/midi_songs/Finalfantasy5gilgameshp.mid\n",
      "Parsing Classical-Piano-Composer/midi_songs/Finalfantasy6fanfarecomplete.mid\n",
      "Parsing Classical-Piano-Composer/midi_songs/bcm.mid\n",
      "Parsing Classical-Piano-Composer/midi_songs/Ff4-BattleLust.mid\n",
      "Parsing Classical-Piano-Composer/midi_songs/roseofmay-piano.mid\n",
      "Parsing Classical-Piano-Composer/midi_songs/waltz_de_choco.mid\n",
      "Parsing Classical-Piano-Composer/midi_songs/braska.mid\n",
      "Parsing Classical-Piano-Composer/midi_songs/FF8_Shuffle_or_boogie_pc.mid\n",
      "Parsing Classical-Piano-Composer/midi_songs/0fithos.mid\n",
      "Parsing Classical-Piano-Composer/midi_songs/rufus.mid\n",
      "Parsing Classical-Piano-Composer/midi_songs/costadsol.mid\n",
      "Parsing Classical-Piano-Composer/midi_songs/Fiend_Battle_(Piano).mid\n",
      "Parsing Classical-Piano-Composer/midi_songs/Fyw_piano.mid\n",
      "Parsing Classical-Piano-Composer/midi_songs/mining.mid\n",
      "Parsing Classical-Piano-Composer/midi_songs/Still_Alive-1.mid\n",
      "Parsing Classical-Piano-Composer/midi_songs/sandy.mid\n",
      "Parsing Classical-Piano-Composer/midi_songs/AT.mid\n",
      "Parsing Classical-Piano-Composer/midi_songs/FFX_-_Ending_Theme_(Piano_Version)_-_by_Angel_FF.mid\n",
      "Parsing Classical-Piano-Composer/midi_songs/electric_de_chocobo.mid\n",
      "Parsing Classical-Piano-Composer/midi_songs/pkelite4.mid\n",
      "Parsing Classical-Piano-Composer/midi_songs/ahead_on_our_way_piano.mid\n",
      "Parsing Classical-Piano-Composer/midi_songs/8.mid\n",
      "Parsing Classical-Piano-Composer/midi_songs/DOS.mid\n",
      "Parsing Classical-Piano-Composer/midi_songs/Kingdom_Hearts_Traverse_Town.mid\n",
      "Parsing Classical-Piano-Composer/midi_songs/FFIXQuMarshP.mid\n",
      "Parsing Classical-Piano-Composer/midi_songs/Kingdom_Hearts_Dearly_Beloved.mid\n",
      "Parsing Classical-Piano-Composer/midi_songs/ff4-airship.mid\n",
      "Parsing Classical-Piano-Composer/midi_songs/gerudo.mid\n",
      "Parsing Classical-Piano-Composer/midi_songs/Zelda_Overworld.mid\n",
      "Parsing Classical-Piano-Composer/midi_songs/ff1battp.mid\n",
      "Parsing Classical-Piano-Composer/midi_songs/Ff7-One_Winged.mid\n",
      "Parsing Classical-Piano-Composer/midi_songs/Cids.mid\n",
      "Parsing Classical-Piano-Composer/midi_songs/sobf.mid\n",
      "Parsing Classical-Piano-Composer/midi_songs/OTD5YA.mid\n",
      "Parsing Classical-Piano-Composer/midi_songs/tifap.mid\n",
      "Parsing Classical-Piano-Composer/midi_songs/lurk_in_dark.mid\n",
      "Parsing Classical-Piano-Composer/midi_songs/HighwindTakestotheSkies.mid\n",
      "Parsing Classical-Piano-Composer/midi_songs/Eternal_Harvest.mid\n",
      "Parsing Classical-Piano-Composer/midi_songs/Rachel_Piano_tempofix.mid\n",
      "Parsing Classical-Piano-Composer/midi_songs/FF4.mid\n",
      "Parsing Classical-Piano-Composer/midi_songs/ff4-town.mid\n",
      "Parsing Classical-Piano-Composer/midi_songs/ff7themep.mid\n",
      "Parsing Classical-Piano-Composer/midi_songs/Life_Stream.mid\n",
      "Parsing Classical-Piano-Composer/midi_songs/Final_Fantasy_Matouyas_Cave_Piano.mid\n",
      "Parsing Classical-Piano-Composer/midi_songs/z_aeristhemepiano.mid\n",
      "Parsing Classical-Piano-Composer/midi_songs/FF6epitaph_piano.mid\n",
      "Parsing Classical-Piano-Composer/midi_songs/great_war.mid\n",
      "Parsing Classical-Piano-Composer/midi_songs/FFVII_BATTLE.mid\n",
      "Parsing Classical-Piano-Composer/midi_songs/FFIII_Edgar_And_Sabin_Piano.mid\n",
      "Parsing Classical-Piano-Composer/midi_songs/path_of_repentance.mid\n",
      "Parsing Classical-Piano-Composer/midi_songs/traitor.mid\n",
      "Parsing Classical-Piano-Composer/midi_songs/Suteki_Da_Ne_(Piano_Version).mid\n",
      "Parsing Classical-Piano-Composer/midi_songs/caitsith.mid\n",
      "Parsing Classical-Piano-Composer/midi_songs/decisive.mid\n",
      "Parsing Classical-Piano-Composer/midi_songs/ff4-fight1.mid\n",
      "Parsing Classical-Piano-Composer/midi_songs/VincentPiano.mid\n",
      "Parsing Classical-Piano-Composer/midi_songs/Oppressed.mid\n",
      "Parsing Classical-Piano-Composer/midi_songs/ff4_piano_collections-main_theme.mid\n",
      "Parsing Classical-Piano-Composer/midi_songs/relmstheme-piano.mid\n",
      "Parsing Classical-Piano-Composer/midi_songs/goldsaucer.mid\n",
      "Parsing Classical-Piano-Composer/midi_songs/In_Zanarkand.mid\n",
      "Parsing Classical-Piano-Composer/midi_songs/fortresscondor.mid\n",
      "Parsing Classical-Piano-Composer/midi_songs/thoughts.mid\n",
      "Parsing Classical-Piano-Composer/midi_songs/Ff7-Cinco.mid\n",
      "Parsing Classical-Piano-Composer/midi_songs/Final_Fantasy_7_-_Judgement_Day_Piano.mid\n",
      "Parsing Classical-Piano-Composer/midi_songs/Rydia_pc.mid\n",
      "Parsing Classical-Piano-Composer/midi_songs/ultimafro.mid\n",
      "Parsing Classical-Piano-Composer/midi_songs/sera_.mid\n",
      "Parsing Classical-Piano-Composer/midi_songs/ff4pclov.mid\n",
      "Parsing Classical-Piano-Composer/midi_songs/figaro.mid\n",
      "Parsing Classical-Piano-Composer/midi_songs/FF3_Third_Phase_Final_(Piano).mid\n",
      "Parsing Classical-Piano-Composer/midi_songs/balamb.mid\n",
      "Parsing Classical-Piano-Composer/midi_songs/dayafter.mid\n",
      "Parsing Classical-Piano-Composer/midi_songs/ff6shap.mid\n",
      "Parsing Classical-Piano-Composer/midi_songs/tpirtsd-piano.mid\n",
      "Parsing Classical-Piano-Composer/midi_songs/FFIX_Piano.mid\n",
      "Parsing Classical-Piano-Composer/midi_songs/ViviinAlexandria.mid\n",
      "Parsing Classical-Piano-Composer/midi_songs/Fierce_Battle_(Piano).mid\n",
      "Parsing Classical-Piano-Composer/midi_songs/redwings.mid\n",
      "Parsing Classical-Piano-Composer/midi_songs/EyesOnMePiano.mid\n",
      "Parsing Classical-Piano-Composer/midi_songs/ff7-mainmidi.mid\n",
      "Parsing Classical-Piano-Composer/midi_songs/cosmo.mid\n",
      "Parsing Classical-Piano-Composer/midi_songs/FF3_Battle_(Piano).mid\n",
      "Parsing Classical-Piano-Composer/midi_songs/ultros.mid\n"
     ]
    }
   ],
   "source": [
    "notes = []\n",
    "\n",
    "for file in glob.glob(\"Classical-Piano-Composer/midi_songs/*.mid\"):\n",
    "    midi = converter.parse(file) #convert the file into stream.Score Object\n",
    "\n",
    "    print(\"Parsing %s\" % file)\n",
    "\n",
    "    notes_to_parse = None\n",
    "    \n",
    "    # unroll / flat the elements (notes/chords) into the list, because elements are sometimes in list of list form.\n",
    "    notes_to_parse = midi.flat.notes   \n",
    "    \n",
    "    # At this point, we have notes_to_parse, which is a Iterator for all the Notes/Chords\n",
    "    \n",
    "    for element in notes_to_parse:\n",
    "        \n",
    "        # If the element is a Note, then store it's pitch\n",
    "        if isinstance(element, note.Note): \n",
    "            notes.append(str(element.pitch))\n",
    "            \n",
    "        # If the element is a Chord, split each note of the chord and join them with +\n",
    "        elif isinstance(element, chord.Chord): \n",
    "            notes.append('+'.join(str(n) for n in element.normalOrder))"
   ]
  },
  {
   "cell_type": "code",
   "execution_count": 4,
   "metadata": {
    "executionInfo": {
     "elapsed": 1088,
     "status": "ok",
     "timestamp": 1601441174528,
     "user": {
      "displayName": "Tejas Malik",
      "photoUrl": "https://lh3.googleusercontent.com/a-/AOh14Gg2UfXQuz0Tq0m0A2wcVXoRWWkr9W9_230vnTOQXw=s64",
      "userId": "10799008024925547284"
     },
     "user_tz": -330
    },
    "id": "TCa2mzPpDDkw"
   },
   "outputs": [],
   "source": [
    "midi = converter.parse(\"Classical-Piano-Composer/midi_songs/mining.mid\") #convert the file into stream.Score Object"
   ]
  },
  {
   "cell_type": "code",
   "execution_count": 5,
   "metadata": {
    "colab": {
     "base_uri": "https://localhost:8080/",
     "height": 35
    },
    "executionInfo": {
     "elapsed": 998,
     "status": "ok",
     "timestamp": 1601441176652,
     "user": {
      "displayName": "Tejas Malik",
      "photoUrl": "https://lh3.googleusercontent.com/a-/AOh14Gg2UfXQuz0Tq0m0A2wcVXoRWWkr9W9_230vnTOQXw=s64",
      "userId": "10799008024925547284"
     },
     "user_tz": -330
    },
    "id": "kL35pLg_DbQE",
    "outputId": "c9614928-b5cc-42c6-fb29-42a6cdf43cec"
   },
   "outputs": [
    {
     "data": {
      "text/plain": [
       "<music21.stream.Score 0x7fa38f2511d0>"
      ]
     },
     "execution_count": 5,
     "metadata": {
      "tags": []
     },
     "output_type": "execute_result"
    }
   ],
   "source": [
    "midi"
   ]
  },
  {
   "cell_type": "code",
   "execution_count": 6,
   "metadata": {
    "executionInfo": {
     "elapsed": 632,
     "status": "ok",
     "timestamp": 1601441178173,
     "user": {
      "displayName": "Tejas Malik",
      "photoUrl": "https://lh3.googleusercontent.com/a-/AOh14Gg2UfXQuz0Tq0m0A2wcVXoRWWkr9W9_230vnTOQXw=s64",
      "userId": "10799008024925547284"
     },
     "user_tz": -330
    },
    "id": "Arx_VX5qDdhF"
   },
   "outputs": [],
   "source": [
    "notes_to_parse = midi.flat.notes"
   ]
  },
  {
   "cell_type": "code",
   "execution_count": 7,
   "metadata": {
    "colab": {
     "base_uri": "https://localhost:8080/",
     "height": 35
    },
    "executionInfo": {
     "elapsed": 937,
     "status": "ok",
     "timestamp": 1601441180624,
     "user": {
      "displayName": "Tejas Malik",
      "photoUrl": "https://lh3.googleusercontent.com/a-/AOh14Gg2UfXQuz0Tq0m0A2wcVXoRWWkr9W9_230vnTOQXw=s64",
      "userId": "10799008024925547284"
     },
     "user_tz": -330
    },
    "id": "zGfK9UuRDg7x",
    "outputId": "21e719b5-fa44-497a-fafa-69526632c89e"
   },
   "outputs": [
    {
     "data": {
      "text/plain": [
       "237"
      ]
     },
     "execution_count": 7,
     "metadata": {
      "tags": []
     },
     "output_type": "execute_result"
    }
   ],
   "source": [
    "len(notes_to_parse)"
   ]
  },
  {
   "cell_type": "code",
   "execution_count": 8,
   "metadata": {
    "colab": {
     "base_uri": "https://localhost:8080/",
     "height": 1000
    },
    "executionInfo": {
     "elapsed": 910,
     "status": "ok",
     "timestamp": 1601441183314,
     "user": {
      "displayName": "Tejas Malik",
      "photoUrl": "https://lh3.googleusercontent.com/a-/AOh14Gg2UfXQuz0Tq0m0A2wcVXoRWWkr9W9_230vnTOQXw=s64",
      "userId": "10799008024925547284"
     },
     "user_tz": -330
    },
    "id": "b0V08OFcDja6",
    "outputId": "08281083-eff9-4f1f-be7b-b9d89d26fcce"
   },
   "outputs": [
    {
     "name": "stdout",
     "output_type": "stream",
     "text": [
      "<music21.chord.Chord D3 A3> 0.0\n",
      "<music21.chord.Chord E3 B3> 0.5\n",
      "<music21.note.Note B> 1.0\n",
      "<music21.note.Note B> 1.0\n",
      "<music21.chord.Chord D3 A3> 1.5\n",
      "<music21.chord.Chord E3 B3> 2.0\n",
      "<music21.chord.Chord D3 A3> 3.0\n",
      "<music21.chord.Chord E3 B3> 3.5\n",
      "<music21.note.Note B> 4.0\n",
      "<music21.chord.Chord D3 A3> 4.5\n",
      "<music21.chord.Chord E3 B3> 5.0\n",
      "<music21.chord.Chord D3 A3> 6.0\n",
      "<music21.chord.Chord E3 B3> 6.5\n",
      "<music21.note.Note B> 7.0\n",
      "<music21.note.Note B> 7.0\n",
      "<music21.chord.Chord D3 A3> 7.5\n",
      "<music21.chord.Chord E3 B3> 8.0\n",
      "<music21.chord.Chord D3 A3> 9.0\n",
      "<music21.chord.Chord E3 B3> 9.5\n",
      "<music21.note.Note B> 10.0\n",
      "<music21.chord.Chord D3 A3> 10.5\n",
      "<music21.chord.Chord E3 B3> 11.0\n",
      "<music21.note.Note G> 11.5\n",
      "<music21.note.Note A> 11.75\n",
      "<music21.note.Note B> 12.0\n",
      "<music21.chord.Chord D3 A3> 12.0\n",
      "<music21.chord.Chord E3 B3> 12.5\n",
      "<music21.note.Note B> 13.0\n",
      "<music21.chord.Chord D3 A3> 13.5\n",
      "<music21.chord.Chord E3 B3> 14.0\n",
      "<music21.note.Note A> 14.5\n",
      "<music21.note.Note G> 14.75\n",
      "<music21.note.Note F#> 15.0\n",
      "<music21.chord.Chord D3 A3> 15.0\n",
      "<music21.chord.Chord E3 B3> 15.5\n",
      "<music21.note.Note B> 16.0\n",
      "<music21.chord.Chord D3 A3> 16.5\n",
      "<music21.chord.Chord E3 B3> 17.0\n",
      "<music21.note.Note E> 17.5\n",
      "<music21.note.Note F#> 17.75\n",
      "<music21.note.Note G> 18.0\n",
      "<music21.chord.Chord D3 A3> 18.0\n",
      "<music21.chord.Chord E3 B3> 18.5\n",
      "<music21.note.Note B> 19.0\n",
      "<music21.chord.Chord D3 A3> 19.5\n",
      "<music21.chord.Chord E3 B3> 20.0\n",
      "<music21.chord.Chord D3 A3> 21.0\n",
      "<music21.note.Note E> 21.25\n",
      "<music21.note.Note G> 21.5\n",
      "<music21.chord.Chord E3 B3> 21.5\n",
      "<music21.note.Note B> 21.75\n",
      "<music21.note.Note A> 22.0\n",
      "<music21.note.Note B> 22.0\n",
      "<music21.note.Note E> 22.25\n",
      "<music21.note.Note G> 22.5\n",
      "<music21.chord.Chord D3 A3> 22.5\n",
      "<music21.note.Note B> 22.75\n",
      "<music21.note.Note A> 23.0\n",
      "<music21.chord.Chord E3 B3> 23.0\n",
      "<music21.note.Note G> 23.5\n",
      "<music21.note.Note A> 23.75\n",
      "<music21.note.Note B> 24.0\n",
      "<music21.chord.Chord D3 A3> 24.0\n",
      "<music21.chord.Chord E3 B3> 24.5\n",
      "<music21.note.Note B> 25.0\n",
      "<music21.chord.Chord D3 A3> 25.5\n",
      "<music21.chord.Chord E3 B3> 26.0\n",
      "<music21.note.Note A> 26.5\n",
      "<music21.note.Note G> 26.75\n",
      "<music21.note.Note F#> 27.0\n",
      "<music21.chord.Chord D3 A3> 27.0\n",
      "<music21.chord.Chord E3 B3> 27.5\n",
      "<music21.note.Note B> 28.0\n",
      "<music21.chord.Chord D3 A3> 28.5\n",
      "<music21.chord.Chord E3 B3> 29.0\n",
      "<music21.note.Note E> 29.5\n",
      "<music21.note.Note F#> 29.75\n",
      "<music21.note.Note G> 30.0\n",
      "<music21.chord.Chord D3 A3> 30.0\n",
      "<music21.chord.Chord E3 B3> 30.5\n",
      "<music21.note.Note B> 31.0\n",
      "<music21.chord.Chord D3 A3> 31.5\n",
      "<music21.chord.Chord E3 B3> 32.0\n",
      "<music21.chord.Chord D3 A3> 33.0\n",
      "<music21.note.Note E> 33.25\n",
      "<music21.note.Note G> 33.5\n",
      "<music21.chord.Chord E3 B3> 33.5\n",
      "<music21.note.Note B> 33.75\n",
      "<music21.note.Note A> 34.0\n",
      "<music21.note.Note B> 34.0\n",
      "<music21.note.Note E> 34.25\n",
      "<music21.note.Note G> 34.5\n",
      "<music21.chord.Chord D3 A3> 34.5\n",
      "<music21.note.Note B> 34.75\n",
      "<music21.note.Note A> 35.0\n",
      "<music21.chord.Chord E3 B3> 35.0\n",
      "<music21.note.Note G> 35.5\n",
      "<music21.note.Note A> 35.75\n",
      "<music21.chord.Chord D3 A3> 36.0\n",
      "<music21.note.Note E> 36.25\n",
      "<music21.note.Note G> 36.5\n",
      "<music21.chord.Chord E3 B3> 36.5\n",
      "<music21.note.Note B> 36.75\n",
      "<music21.note.Note D> 37.0\n",
      "<music21.note.Note B> 37.0\n",
      "<music21.note.Note C#> 37.25\n",
      "<music21.note.Note B> 37.5\n",
      "<music21.chord.Chord D3 A3> 37.5\n",
      "<music21.note.Note A> 38.0\n",
      "<music21.chord.Chord E3 B3> 38.0\n",
      "<music21.note.Note C#> 38.25\n",
      "<music21.note.Note B> 38.5\n",
      "<music21.note.Note G> 39.0\n",
      "<music21.chord.Chord D3 A3> 39.0\n",
      "<music21.note.Note A> 39.5\n",
      "<music21.chord.Chord E3 B3> 39.5\n",
      "<music21.note.Note B> 40.0\n",
      "<music21.note.Note F#> 40.25\n",
      "<music21.note.Note G> 40.5\n",
      "<music21.chord.Chord D3 A3> 40.5\n",
      "<music21.note.Note F#> 41.0\n",
      "<music21.note.Note F> 41.0\n",
      "<music21.chord.Chord E3 B3> 41.0\n",
      "<music21.note.Note E> 41.25\n",
      "<music21.chord.Chord E4 G4> 42.0\n",
      "<music21.chord.Chord D3 A3> 42.0\n",
      "<music21.chord.Chord E3 B3> 42.5\n",
      "<music21.note.Note B> 43.0\n",
      "<music21.chord.Chord D4 F#4> 43.5\n",
      "<music21.chord.Chord D3 A3> 43.5\n",
      "<music21.chord.Chord E3 B3> 44.0\n",
      "<music21.chord.Chord C#4 E4> 45.0\n",
      "<music21.chord.Chord D3 A3> 45.0\n",
      "<music21.chord.Chord E3 B3> 45.5\n",
      "<music21.note.Note B> 46.0\n",
      "<music21.chord.Chord D3 A3> 46.5\n",
      "<music21.chord.Chord E3 B3> 47.0\n",
      "<music21.chord.Chord D3 A3> 48.0\n",
      "<music21.note.Note E> 48.25\n",
      "<music21.note.Note G> 48.5\n",
      "<music21.chord.Chord E3 B3> 48.5\n",
      "<music21.note.Note B> 48.75\n",
      "<music21.note.Note D> 49.0\n",
      "<music21.note.Note B> 49.0\n",
      "<music21.note.Note C#> 49.25\n",
      "<music21.note.Note B> 49.5\n",
      "<music21.chord.Chord D3 A3> 49.5\n",
      "<music21.note.Note A> 50.0\n",
      "<music21.chord.Chord E3 B3> 50.0\n",
      "<music21.note.Note C#> 50.25\n",
      "<music21.note.Note B> 50.5\n",
      "<music21.note.Note G> 51.0\n",
      "<music21.chord.Chord D3 A3> 51.0\n",
      "<music21.note.Note A> 51.5\n",
      "<music21.chord.Chord E3 B3> 51.5\n",
      "<music21.note.Note B> 52.0\n",
      "<music21.note.Note F#> 52.25\n",
      "<music21.note.Note G> 52.5\n",
      "<music21.chord.Chord D3 A3> 52.5\n",
      "<music21.note.Note F#> 53.0\n",
      "<music21.note.Note F> 53.0\n",
      "<music21.chord.Chord E3 B3> 53.0\n",
      "<music21.note.Note E> 53.25\n",
      "<music21.chord.Chord E4 G4> 54.0\n",
      "<music21.chord.Chord D3 A3> 54.0\n",
      "<music21.chord.Chord E3 B3> 54.5\n",
      "<music21.note.Note B> 55.0\n",
      "<music21.chord.Chord D4 F#4> 55.5\n",
      "<music21.chord.Chord D3 A3> 55.5\n",
      "<music21.chord.Chord E3 B3> 56.0\n",
      "<music21.chord.Chord G4 B4> 57.0\n",
      "<music21.chord.Chord D3 A3> 57.0\n",
      "<music21.chord.Chord E3 B3> 57.5\n",
      "<music21.note.Note B> 58.0\n",
      "<music21.chord.Chord D3 A3> 58.5\n",
      "<music21.chord.Chord E3 B3> 59.0\n",
      "<music21.note.Note A> 59.5\n",
      "<music21.note.Note B> 59.75\n",
      "<music21.note.Note C> 60.0\n",
      "<music21.chord.Chord E3 A3> 60.0\n",
      "<music21.chord.Chord F3 C4> 60.5\n",
      "<music21.note.Note C> 61.0\n",
      "<music21.chord.Chord E3 A3> 61.5\n",
      "<music21.chord.Chord F3 C4> 62.0\n",
      "<music21.note.Note B> 62.5\n",
      "<music21.note.Note A> 62.75\n",
      "<music21.note.Note G> 63.0\n",
      "<music21.chord.Chord D3 A3> 63.0\n",
      "<music21.chord.Chord E3 B3> 63.5\n",
      "<music21.note.Note B> 64.0\n",
      "<music21.chord.Chord D3 A3> 64.5\n",
      "<music21.chord.Chord E3 B3> 65.0\n",
      "<music21.note.Note B> 65.5\n",
      "<music21.note.Note C#> 65.75\n",
      "<music21.note.Note D> 66.0\n",
      "<music21.chord.Chord D3 B3> 66.0\n",
      "<music21.chord.Chord F#3 D4> 66.5\n",
      "<music21.chord.Chord B2 F#3> 67.0\n",
      "<music21.chord.Chord D3 B3> 67.5\n",
      "<music21.chord.Chord F#3 C4> 68.0\n",
      "<music21.note.Note C#> 68.5\n",
      "<music21.note.Note B> 68.75\n",
      "<music21.note.Note A> 69.0\n",
      "<music21.chord.Chord E-3 A3> 69.0\n",
      "<music21.chord.Chord F#3 C#4> 69.5\n",
      "<music21.chord.Chord A2 F#3> 70.0\n",
      "<music21.chord.Chord C#3 A3> 70.5\n",
      "<music21.chord.Chord F#3 C#4> 71.0\n",
      "<music21.note.Note A> 71.5\n",
      "<music21.note.Note B> 71.75\n",
      "<music21.note.Note C> 72.0\n",
      "<music21.chord.Chord E3 A3> 72.0\n",
      "<music21.chord.Chord F3 C4> 72.5\n",
      "<music21.note.Note C> 73.0\n",
      "<music21.chord.Chord E3 A3> 73.5\n",
      "<music21.chord.Chord F3 C4> 74.0\n",
      "<music21.note.Note B> 74.5\n",
      "<music21.note.Note A> 74.75\n",
      "<music21.note.Note G> 75.0\n",
      "<music21.chord.Chord E3 A3> 75.0\n",
      "<music21.chord.Chord F3 C4> 75.5\n",
      "<music21.chord.Chord C3 E3> 76.0\n",
      "<music21.chord.Chord D3 G3> 76.5\n",
      "<music21.chord.Chord E3 C4> 77.0\n",
      "<music21.note.Note E> 77.5\n",
      "<music21.note.Note G> 77.75\n",
      "<music21.note.Note F#> 78.0\n",
      "<music21.chord.Chord D3 A3> 78.0\n",
      "<music21.chord.Chord E3 B3> 78.5\n",
      "<music21.chord.Chord B2 F#3> 79.0\n",
      "<music21.chord.Chord D3 A3> 79.5\n",
      "<music21.chord.Chord E3 B3> 80.0\n",
      "<music21.chord.Chord D3 A3> 81.0\n",
      "<music21.chord.Chord E3 B3> 81.5\n",
      "<music21.chord.Chord B2 F#3> 82.0\n",
      "<music21.chord.Chord D3 A3> 82.5\n",
      "<music21.chord.Chord E3 B3> 83.0\n"
     ]
    }
   ],
   "source": [
    "#  Here offset is 0.5 everytime\n",
    "for i in notes_to_parse:\n",
    "    print(i, i.offset)"
   ]
  },
  {
   "cell_type": "code",
   "execution_count": 9,
   "metadata": {
    "executionInfo": {
     "elapsed": 927,
     "status": "ok",
     "timestamp": 1601441193749,
     "user": {
      "displayName": "Tejas Malik",
      "photoUrl": "https://lh3.googleusercontent.com/a-/AOh14Gg2UfXQuz0Tq0m0A2wcVXoRWWkr9W9_230vnTOQXw=s64",
      "userId": "10799008024925547284"
     },
     "user_tz": -330
    },
    "id": "J61l4FBCDoFs"
   },
   "outputs": [],
   "source": [
    "notes_demo= []\n",
    "for element in notes_to_parse:\n",
    "    # If the element is a Note, then store it's pitch\n",
    "    if isinstance(element, note.Note): \n",
    "        notes_demo.append(str(element.pitch))\n",
    "\n",
    "    # If the element is a Chord, split each note of the chord and join them with dot\n",
    "    elif isinstance(element, chord.Chord): \n",
    "        notes_demo.append('+'.join(str(n) for n in element.normalOrder))"
   ]
  },
  {
   "cell_type": "code",
   "execution_count": 10,
   "metadata": {
    "colab": {
     "base_uri": "https://localhost:8080/",
     "height": 35
    },
    "executionInfo": {
     "elapsed": 923,
     "status": "ok",
     "timestamp": 1601441239433,
     "user": {
      "displayName": "Tejas Malik",
      "photoUrl": "https://lh3.googleusercontent.com/a-/AOh14Gg2UfXQuz0Tq0m0A2wcVXoRWWkr9W9_230vnTOQXw=s64",
      "userId": "10799008024925547284"
     },
     "user_tz": -330
    },
    "id": "W1fPjXgvDxmG",
    "outputId": "b950ba06-39f1-42d8-e52d-b8364b344a34"
   },
   "outputs": [
    {
     "name": "stdout",
     "output_type": "stream",
     "text": [
      "['9+2', '11+4', 'B5', 'B2', '9+2', '11+4', '9+2', '11+4', 'B2', '9+2', '11+4', '9+2', '11+4', 'B5', 'B2']\n"
     ]
    }
   ],
   "source": [
    "# got the notes and chords\n",
    "print(notes_demo[:15])"
   ]
  },
  {
   "cell_type": "code",
   "execution_count": 11,
   "metadata": {
    "executionInfo": {
     "elapsed": 920,
     "status": "ok",
     "timestamp": 1601441244019,
     "user": {
      "displayName": "Tejas Malik",
      "photoUrl": "https://lh3.googleusercontent.com/a-/AOh14Gg2UfXQuz0Tq0m0A2wcVXoRWWkr9W9_230vnTOQXw=s64",
      "userId": "10799008024925547284"
     },
     "user_tz": -330
    },
    "id": "Ex4xPT6sD1Mz"
   },
   "outputs": [],
   "source": [
    "with open('notes_easy', 'wb') as filepath:\n",
    "    pickle.dump(notes, filepath)"
   ]
  },
  {
   "cell_type": "code",
   "execution_count": 12,
   "metadata": {
    "executionInfo": {
     "elapsed": 640,
     "status": "ok",
     "timestamp": 1601441245483,
     "user": {
      "displayName": "Tejas Malik",
      "photoUrl": "https://lh3.googleusercontent.com/a-/AOh14Gg2UfXQuz0Tq0m0A2wcVXoRWWkr9W9_230vnTOQXw=s64",
      "userId": "10799008024925547284"
     },
     "user_tz": -330
    },
    "id": "uDP4WcixENBd"
   },
   "outputs": [],
   "source": [
    "with open('notes_easy', 'rb') as filepath:\n",
    "    notes = pickle.load(filepath)"
   ]
  },
  {
   "cell_type": "code",
   "execution_count": 13,
   "metadata": {
    "executionInfo": {
     "elapsed": 927,
     "status": "ok",
     "timestamp": 1601441248099,
     "user": {
      "displayName": "Tejas Malik",
      "photoUrl": "https://lh3.googleusercontent.com/a-/AOh14Gg2UfXQuz0Tq0m0A2wcVXoRWWkr9W9_230vnTOQXw=s64",
      "userId": "10799008024925547284"
     },
     "user_tz": -330
    },
    "id": "zhZFDHHtFHWQ"
   },
   "outputs": [],
   "source": [
    "n_vocab = len(set(notes))"
   ]
  },
  {
   "cell_type": "code",
   "execution_count": 14,
   "metadata": {
    "colab": {
     "base_uri": "https://localhost:8080/",
     "height": 52
    },
    "executionInfo": {
     "elapsed": 1001,
     "status": "ok",
     "timestamp": 1601441249938,
     "user": {
      "displayName": "Tejas Malik",
      "photoUrl": "https://lh3.googleusercontent.com/a-/AOh14Gg2UfXQuz0Tq0m0A2wcVXoRWWkr9W9_230vnTOQXw=s64",
      "userId": "10799008024925547284"
     },
     "user_tz": -330
    },
    "id": "oH_7cFN2FMxj",
    "outputId": "cfa736d3-4d12-4f47-eb08-f04478d5b25d"
   },
   "outputs": [
    {
     "name": "stdout",
     "output_type": "stream",
     "text": [
      "Total notes-  60498\n",
      "Unique Notes-  359\n"
     ]
    }
   ],
   "source": [
    "print(\"Total notes- \",len(notes))\n",
    "print(\"Unique Notes- \",n_vocab)"
   ]
  },
  {
   "cell_type": "code",
   "execution_count": 15,
   "metadata": {
    "colab": {
     "base_uri": "https://localhost:8080/",
     "height": 55
    },
    "executionInfo": {
     "elapsed": 951,
     "status": "ok",
     "timestamp": 1601441252024,
     "user": {
      "displayName": "Tejas Malik",
      "photoUrl": "https://lh3.googleusercontent.com/a-/AOh14Gg2UfXQuz0Tq0m0A2wcVXoRWWkr9W9_230vnTOQXw=s64",
      "userId": "10799008024925547284"
     },
     "user_tz": -330
    },
    "id": "hW2zFzaKFP15",
    "outputId": "fc60002e-cfc0-4fab-e44b-a3b7a41c45ae"
   },
   "outputs": [
    {
     "name": "stdout",
     "output_type": "stream",
     "text": [
      "['9+1+4', 'A1', 'A2', 'A2', 'A1', 'A1', 'A2', 'A2', 'A1', '10+2+5', 'A1', 'A2', 'A2', 'A1', 'A1', 'A2', 'A2', 'A1', '11+3+6', 'A1', 'A2', 'A2', 'A1', 'A1', 'A2', 'A2', 'A1', '0+4+7', 'A1', 'A2', 'A2', 'A1', 'A1', 'A2', 'A2', 'A1', '9+1+4', '9', '9', '9', '9', '9+0+4', '9+0+4', '9+0+4', '7+11+2', 'A2', 'E2', 'E2', 'E2', '7+11+2', 'A2', '7+11+2', 'E2', 'E2', 'E2', '7+11+2', 'A2', 'E2', 'E2', 'E2', '7+11+2', 'G3', 'G3', 'G3', '7+11+2', 'D3', '7+11+2', 'E3', '7+11+2', 'C3', '9+0+4', 'A2', 'E2', 'E2', 'E2', '4+9', 'A2', 'G2', 'B2', 'G2', '0+4', 'A2', 'F#2', 'G2', 'G#2', '9+0', 'A2', '9+0+4', 'A2', '9+0+4', 'A2', '9+0+4', 'A2', '10+2+5', 'B-2', '9+0+4', 'A2', '4+9', '8+0+3', '8']\n"
     ]
    }
   ],
   "source": [
    "# notes is a list of all the notes in each music file\n",
    "print(notes[:100])"
   ]
  },
  {
   "cell_type": "markdown",
   "metadata": {
    "id": "zuzLCWbeF6T9"
   },
   "source": [
    "# **Preparing Sequential Data for LSTM**"
   ]
  },
  {
   "cell_type": "code",
   "execution_count": 16,
   "metadata": {
    "executionInfo": {
     "elapsed": 1107,
     "status": "ok",
     "timestamp": 1601441255881,
     "user": {
      "displayName": "Tejas Malik",
      "photoUrl": "https://lh3.googleusercontent.com/a-/AOh14Gg2UfXQuz0Tq0m0A2wcVXoRWWkr9W9_230vnTOQXw=s64",
      "userId": "10799008024925547284"
     },
     "user_tz": -330
    },
    "id": "GE84-1XKGFiT"
   },
   "outputs": [],
   "source": [
    "#  How many elements LSTM input should consider\n",
    "sequence_length = 100"
   ]
  },
  {
   "cell_type": "code",
   "execution_count": 17,
   "metadata": {
    "executionInfo": {
     "elapsed": 714,
     "status": "ok",
     "timestamp": 1601441257247,
     "user": {
      "displayName": "Tejas Malik",
      "photoUrl": "https://lh3.googleusercontent.com/a-/AOh14Gg2UfXQuz0Tq0m0A2wcVXoRWWkr9W9_230vnTOQXw=s64",
      "userId": "10799008024925547284"
     },
     "user_tz": -330
    },
    "id": "vkrICn5sGJQ0"
   },
   "outputs": [],
   "source": [
    "# ALl the unique elements in a sorted manner\n",
    "pitchnames = sorted(set(item for item in notes))"
   ]
  },
  {
   "cell_type": "code",
   "execution_count": 18,
   "metadata": {
    "colab": {
     "base_uri": "https://localhost:8080/",
     "height": 55
    },
    "executionInfo": {
     "elapsed": 741,
     "status": "ok",
     "timestamp": 1601441258658,
     "user": {
      "displayName": "Tejas Malik",
      "photoUrl": "https://lh3.googleusercontent.com/a-/AOh14Gg2UfXQuz0Tq0m0A2wcVXoRWWkr9W9_230vnTOQXw=s64",
      "userId": "10799008024925547284"
     },
     "user_tz": -330
    },
    "id": "7JaM9_t_GMai",
    "outputId": "c7486db0-1f25-41b9-8108-03739bceca2a"
   },
   "outputs": [
    {
     "name": "stdout",
     "output_type": "stream",
     "text": [
      "{'0': 0, '0+1': 1, '0+1+5': 2, '0+1+6': 3, '0+2': 4, '0+2+3+7': 5, '0+2+4+7': 6, '0+2+5': 7, '0+2+6': 8, '0+2+7': 9, '0+3': 10, '0+3+5': 11, '0+3+5+8': 12, '0+3+6': 13, '0+3+6+8': 14, '0+3+6+9': 15, '0+3+7': 16, '0+4': 17, '0+4+5': 18, '0+4+6': 19, '0+4+7': 20, '0+5': 21, '0+5+6': 22, '0+6': 23, '1': 24, '1+2': 25, '1+2+4+6+8+10': 26, '1+2+6': 27, '1+2+6+8': 28, '1+3': 29, '1+3+5': 30, '1+3+5+8': 31, '1+3+6': 32, '1+3+7': 33, '1+3+8': 34, '1+4': 35, '1+4+6': 36, '1+4+6+9': 37, '1+4+7': 38, '1+4+7+10': 39, '1+4+7+9': 40, '1+4+8': 41, '1+5': 42, '1+5+8': 43, '1+5+9': 44, '1+6': 45, '1+7': 46, '10': 47, '10+0': 48, '10+0+2+5': 49, '10+0+3': 50, '10+0+4': 51, '10+0+5': 52, '10+1': 53, '10+1+3': 54, '10+1+3+5+6': 55, '10+1+3+6': 56, '10+1+4': 57, '10+1+4+6': 58, '10+1+5': 59, '10+11': 60, '10+11+3': 61, '10+11+3+5': 62, '10+2': 63, '10+2+3': 64, '10+2+4': 65, '10+2+5': 66, '10+3': 67, '11': 68, '11+0': 69, '11+0+4': 70, '11+0+4+6': 71, '11+0+4+7': 72, '11+0+5': 73, '11+1': 74, '11+1+4': 75, '11+1+4+5': 76, '11+1+5': 77, '11+1+6': 78, '11+2': 79, '11+2+4': 80, '11+2+4+6': 81, '11+2+4+7': 82, '11+2+5': 83, '11+2+5+7': 84, '11+2+6': 85, '11+3': 86, '11+3+5': 87, '11+3+6': 88, '11+4': 89, '11+4+5': 90, '2': 91, '2+3': 92, '2+3+7': 93, '2+3+7+10': 94, '2+3+7+9': 95, '2+4': 96, '2+4+5': 97, '2+4+5+9': 98, '2+4+6+9+11': 99, '2+4+7': 100, '2+4+7+10': 101, '2+4+8': 102, '2+4+9': 103, '2+5': 104, '2+5+7': 105, '2+5+7+10': 106, '2+5+8': 107, '2+5+8+10': 108, '2+5+8+11': 109, '2+5+9': 110, '2+6': 111, '2+6+10': 112, '2+6+7': 113, '2+6+7+9': 114, '2+6+9': 115, '2+7': 116, '2+7+8': 117, '2+8': 118, '3': 119, '3+4': 120, '3+4+8': 121, '3+4+8+10': 122, '3+5': 123, '3+5+10': 124, '3+5+7': 125, '3+5+7+10': 126, '3+5+7+8+11': 127, '3+5+8': 128, '3+5+8+11': 129, '3+6': 130, '3+6+10': 131, '3+6+7': 132, '3+6+8': 133, '3+6+9+11': 134, '3+7': 135, '3+7+10': 136, '3+7+11': 137, '3+7+9': 138, '3+7+9+10': 139, '3+8': 140, '3+8+9': 141, '3+9': 142, '4': 143, '4+10': 144, '4+5': 145, '4+5+7+11': 146, '4+5+9': 147, '4+5+9+0': 148, '4+5+9+11': 149, '4+6': 150, '4+6+10': 151, '4+6+11': 152, '4+6+7': 153, '4+6+8': 154, '4+6+8+11+1': 155, '4+6+9': 156, '4+6+9+11': 157, '4+7': 158, '4+7+10': 159, '4+7+11': 160, '4+7+9': 161, '4+7+9+0': 162, '4+7+9+11': 163, '4+8': 164, '4+8+10': 165, '4+8+11': 166, '4+8+9': 167, '4+8+9+11': 168, '4+9': 169, '4+9+10': 170, '5': 171, '5+10': 172, '5+10+11': 173, '5+11': 174, '5+6': 175, '5+7': 176, '5+7+0': 177, '5+7+10': 178, '5+7+8+0': 179, '5+8': 180, '5+8+0': 181, '5+8+10': 182, '5+8+11': 183, '5+9': 184, '5+9+0': 185, '5+9+11': 186, '5+9+11+0': 187, '6': 188, '6+10': 189, '6+10+0': 190, '6+10+1': 191, '6+10+11': 192, '6+10+11+1': 193, '6+11': 194, '6+11+0': 195, '6+7': 196, '6+7+0': 197, '6+7+11': 198, '6+7+11+2': 199, '6+8': 200, '6+8+0': 201, '6+8+1': 202, '6+8+10': 203, '6+8+10+0+3': 204, '6+8+11': 205, '6+8+11+2': 206, '6+9': 207, '6+9+0': 208, '6+9+0+2': 209, '6+9+1': 210, '6+9+11': 211, '6+9+11+2': 212, '7': 213, '7+0': 214, '7+10': 215, '7+10+0': 216, '7+10+0+3': 217, '7+10+1': 218, '7+10+1+3': 219, '7+10+2': 220, '7+11': 221, '7+11+0': 222, '7+11+2': 223, '7+8': 224, '7+8+0': 225, '7+8+0+3': 226, '7+8+10+2': 227, '7+8+11': 228, '7+9': 229, '7+9+0': 230, '7+9+1': 231, '7+9+11': 232, '7+9+11+2': 233, '7+9+2': 234, '8': 235, '8+0': 236, '8+0+1': 237, '8+0+2': 238, '8+0+3': 239, '8+1': 240, '8+10': 241, '8+10+0': 242, '8+10+1': 243, '8+10+11+1+4': 244, '8+10+11+3': 245, '8+10+2': 246, '8+10+3': 247, '8+11': 248, '8+11+1': 249, '8+11+1+4': 250, '8+11+2': 251, '8+11+3': 252, '8+9': 253, '8+9+1': 254, '8+9+1+3': 255, '8+9+1+4': 256, '8+9+11+1': 257, '8+9+2': 258, '9': 259, '9+0': 260, '9+0+2': 261, '9+0+2+4': 262, '9+0+2+5': 263, '9+0+3': 264, '9+0+3+5': 265, '9+0+4': 266, '9+1': 267, '9+1+4': 268, '9+10': 269, '9+10+2': 270, '9+10+2+4': 271, '9+11': 272, '9+11+0+4': 273, '9+11+1': 274, '9+11+2': 275, '9+11+2+4': 276, '9+11+2+5': 277, '9+11+3': 278, '9+11+4': 279, '9+2': 280, '9+2+3': 281, 'A0': 282, 'A1': 283, 'A2': 284, 'A3': 285, 'A4': 286, 'A5': 287, 'A6': 288, 'B-1': 289, 'B-2': 290, 'B-3': 291, 'B-4': 292, 'B-5': 293, 'B-6': 294, 'B0': 295, 'B1': 296, 'B2': 297, 'B3': 298, 'B4': 299, 'B5': 300, 'B6': 301, 'C#1': 302, 'C#2': 303, 'C#3': 304, 'C#4': 305, 'C#5': 306, 'C#6': 307, 'C#7': 308, 'C1': 309, 'C2': 310, 'C3': 311, 'C4': 312, 'C5': 313, 'C6': 314, 'C7': 315, 'D1': 316, 'D2': 317, 'D3': 318, 'D4': 319, 'D5': 320, 'D6': 321, 'D7': 322, 'E-1': 323, 'E-2': 324, 'E-3': 325, 'E-4': 326, 'E-5': 327, 'E-6': 328, 'E1': 329, 'E2': 330, 'E3': 331, 'E4': 332, 'E5': 333, 'E6': 334, 'F#1': 335, 'F#2': 336, 'F#3': 337, 'F#4': 338, 'F#5': 339, 'F#6': 340, 'F1': 341, 'F2': 342, 'F3': 343, 'F4': 344, 'F5': 345, 'F6': 346, 'G#1': 347, 'G#2': 348, 'G#3': 349, 'G#4': 350, 'G#5': 351, 'G#6': 352, 'G1': 353, 'G2': 354, 'G3': 355, 'G4': 356, 'G5': 357, 'G6': 358}\n"
     ]
    }
   ],
   "source": [
    "# Mapping between note to int value\n",
    "note_to_int = dict((note, number) for number, note in enumerate(pitchnames))\n",
    "print(note_to_int)"
   ]
  },
  {
   "cell_type": "code",
   "execution_count": 19,
   "metadata": {
    "executionInfo": {
     "elapsed": 940,
     "status": "ok",
     "timestamp": 1601441260908,
     "user": {
      "displayName": "Tejas Malik",
      "photoUrl": "https://lh3.googleusercontent.com/a-/AOh14Gg2UfXQuz0Tq0m0A2wcVXoRWWkr9W9_230vnTOQXw=s64",
      "userId": "10799008024925547284"
     },
     "user_tz": -330
    },
    "id": "-21ZF_5nGPea"
   },
   "outputs": [],
   "source": [
    "network_input = []\n",
    "network_output = []"
   ]
  },
  {
   "cell_type": "code",
   "execution_count": 20,
   "metadata": {
    "executionInfo": {
     "elapsed": 1565,
     "status": "ok",
     "timestamp": 1601441263273,
     "user": {
      "displayName": "Tejas Malik",
      "photoUrl": "https://lh3.googleusercontent.com/a-/AOh14Gg2UfXQuz0Tq0m0A2wcVXoRWWkr9W9_230vnTOQXw=s64",
      "userId": "10799008024925547284"
     },
     "user_tz": -330
    },
    "id": "9E21upzgGTTq"
   },
   "outputs": [],
   "source": [
    "# Make the data for LSTM Network\n",
    "# Each Node will contain 100 input units\n",
    "# Output will be the next unit in notes list\n",
    "\n",
    "for i in range(0, len(notes) - sequence_length, 1):\n",
    "    \n",
    "    sequence_in = notes[i:i + sequence_length] # contains 100 values \n",
    "    sequence_out = notes[i + sequence_length] # containes next values for these 100's\n",
    "    \n",
    "    # Since NN works with numeric data only, append the int values for inputs and outputs.\n",
    "    network_input.append([note_to_int[char] for char in sequence_in])\n",
    "    network_output.append(note_to_int[sequence_out])"
   ]
  },
  {
   "cell_type": "code",
   "execution_count": 21,
   "metadata": {
    "colab": {
     "base_uri": "https://localhost:8080/",
     "height": 35
    },
    "executionInfo": {
     "elapsed": 928,
     "status": "ok",
     "timestamp": 1601441265260,
     "user": {
      "displayName": "Tejas Malik",
      "photoUrl": "https://lh3.googleusercontent.com/a-/AOh14Gg2UfXQuz0Tq0m0A2wcVXoRWWkr9W9_230vnTOQXw=s64",
      "userId": "10799008024925547284"
     },
     "user_tz": -330
    },
    "id": "E2MX48vlGV9l",
    "outputId": "572ec431-da02-4283-a1fb-b34e60fc3ee7"
   },
   "outputs": [
    {
     "name": "stdout",
     "output_type": "stream",
     "text": [
      "60398\n"
     ]
    }
   ],
   "source": [
    "# No. of examples for our network\n",
    "\n",
    "n_patterns = len(network_input)\n",
    "print(n_patterns)"
   ]
  },
  {
   "cell_type": "code",
   "execution_count": 22,
   "metadata": {
    "colab": {
     "base_uri": "https://localhost:8080/",
     "height": 35
    },
    "executionInfo": {
     "elapsed": 1346,
     "status": "ok",
     "timestamp": 1601441267693,
     "user": {
      "displayName": "Tejas Malik",
      "photoUrl": "https://lh3.googleusercontent.com/a-/AOh14Gg2UfXQuz0Tq0m0A2wcVXoRWWkr9W9_230vnTOQXw=s64",
      "userId": "10799008024925547284"
     },
     "user_tz": -330
    },
    "id": "ARoRwndnGa03",
    "outputId": "74ec5d0a-ae4a-4ef2-a399-978d6d816eb1"
   },
   "outputs": [
    {
     "name": "stdout",
     "output_type": "stream",
     "text": [
      "(60398, 100, 1)\n"
     ]
    }
   ],
   "source": [
    "# Reshape it into a format compatible with LSTM layers\n",
    "network_input = numpy.reshape(network_input, (n_patterns, sequence_length, 1))\n",
    "print(network_input.shape)"
   ]
  },
  {
   "cell_type": "code",
   "execution_count": 23,
   "metadata": {
    "executionInfo": {
     "elapsed": 617,
     "status": "ok",
     "timestamp": 1601441269200,
     "user": {
      "displayName": "Tejas Malik",
      "photoUrl": "https://lh3.googleusercontent.com/a-/AOh14Gg2UfXQuz0Tq0m0A2wcVXoRWWkr9W9_230vnTOQXw=s64",
      "userId": "10799008024925547284"
     },
     "user_tz": -330
    },
    "id": "nr4ADX_6GnZL"
   },
   "outputs": [],
   "source": [
    "normalised_network_input = network_input/float(n_vocab)"
   ]
  },
  {
   "cell_type": "code",
   "execution_count": 24,
   "metadata": {
    "executionInfo": {
     "elapsed": 644,
     "status": "ok",
     "timestamp": 1601441270842,
     "user": {
      "displayName": "Tejas Malik",
      "photoUrl": "https://lh3.googleusercontent.com/a-/AOh14Gg2UfXQuz0Tq0m0A2wcVXoRWWkr9W9_230vnTOQXw=s64",
      "userId": "10799008024925547284"
     },
     "user_tz": -330
    },
    "id": "8Mvq23WCGp-e"
   },
   "outputs": [],
   "source": [
    "# network_output are the classes, encode one_hot_vector\n",
    "network_output = np_utils.to_categorical(network_output)"
   ]
  },
  {
   "cell_type": "code",
   "execution_count": 25,
   "metadata": {
    "colab": {
     "base_uri": "https://localhost:8080/",
     "height": 52
    },
    "executionInfo": {
     "elapsed": 627,
     "status": "ok",
     "timestamp": 1601441272301,
     "user": {
      "displayName": "Tejas Malik",
      "photoUrl": "https://lh3.googleusercontent.com/a-/AOh14Gg2UfXQuz0Tq0m0A2wcVXoRWWkr9W9_230vnTOQXw=s64",
      "userId": "10799008024925547284"
     },
     "user_tz": -330
    },
    "id": "aa2pvFokGtIo",
    "outputId": "c33a8eb8-80d2-42d3-9cf5-11ec624959ff"
   },
   "outputs": [
    {
     "name": "stdout",
     "output_type": "stream",
     "text": [
      "(60398, 359)\n",
      "(60398, 100, 1)\n"
     ]
    }
   ],
   "source": [
    "print(network_output.shape)\n",
    "print(normalised_network_input.shape)"
   ]
  },
  {
   "cell_type": "markdown",
   "metadata": {
    "id": "xvSxNp56G0-k"
   },
   "source": [
    "## **Prepare the Model**"
   ]
  },
  {
   "cell_type": "code",
   "execution_count": 26,
   "metadata": {
    "executionInfo": {
     "elapsed": 7287,
     "status": "ok",
     "timestamp": 1601441282074,
     "user": {
      "displayName": "Tejas Malik",
      "photoUrl": "https://lh3.googleusercontent.com/a-/AOh14Gg2UfXQuz0Tq0m0A2wcVXoRWWkr9W9_230vnTOQXw=s64",
      "userId": "10799008024925547284"
     },
     "user_tz": -330
    },
    "id": "1cR350ATG7Rx"
   },
   "outputs": [],
   "source": [
    "# Create the structure of the neural network\n",
    "model = Sequential()\n",
    "model.add(LSTM(512,\n",
    "            input_shape=(network_input.shape[1], network_input.shape[2]),\n",
    "            return_sequences=True ))\n",
    "model.add(Dropout(0.3))\n",
    "model.add(LSTM(512, return_sequences=True))\n",
    "model.add(Dropout(0.3))\n",
    "model.add(LSTM(512))\n",
    "model.add(Dense(256))\n",
    "model.add(Dropout(0.3))\n",
    "model.add(Dense(n_vocab))\n",
    "model.add(Activation('softmax'))\n",
    "model.compile(loss='categorical_crossentropy', optimizer='rmsprop')"
   ]
  },
  {
   "cell_type": "code",
   "execution_count": 27,
   "metadata": {
    "colab": {
     "base_uri": "https://localhost:8080/",
     "height": 468
    },
    "executionInfo": {
     "elapsed": 916,
     "status": "ok",
     "timestamp": 1601441287893,
     "user": {
      "displayName": "Tejas Malik",
      "photoUrl": "https://lh3.googleusercontent.com/a-/AOh14Gg2UfXQuz0Tq0m0A2wcVXoRWWkr9W9_230vnTOQXw=s64",
      "userId": "10799008024925547284"
     },
     "user_tz": -330
    },
    "id": "cdr7bUBVHDHw",
    "outputId": "da5d9ddb-7b9f-4c78-fac5-bd882b18100c"
   },
   "outputs": [
    {
     "name": "stdout",
     "output_type": "stream",
     "text": [
      "Model: \"sequential\"\n",
      "_________________________________________________________________\n",
      "Layer (type)                 Output Shape              Param #   \n",
      "=================================================================\n",
      "lstm (LSTM)                  (None, 100, 512)          1052672   \n",
      "_________________________________________________________________\n",
      "dropout (Dropout)            (None, 100, 512)          0         \n",
      "_________________________________________________________________\n",
      "lstm_1 (LSTM)                (None, 100, 512)          2099200   \n",
      "_________________________________________________________________\n",
      "dropout_1 (Dropout)          (None, 100, 512)          0         \n",
      "_________________________________________________________________\n",
      "lstm_2 (LSTM)                (None, 512)               2099200   \n",
      "_________________________________________________________________\n",
      "dense (Dense)                (None, 256)               131328    \n",
      "_________________________________________________________________\n",
      "dropout_2 (Dropout)          (None, 256)               0         \n",
      "_________________________________________________________________\n",
      "dense_1 (Dense)              (None, 359)               92263     \n",
      "_________________________________________________________________\n",
      "activation (Activation)      (None, 359)               0         \n",
      "=================================================================\n",
      "Total params: 5,474,663\n",
      "Trainable params: 5,474,663\n",
      "Non-trainable params: 0\n",
      "_________________________________________________________________\n"
     ]
    }
   ],
   "source": [
    "model.summary()"
   ]
  },
  {
   "cell_type": "code",
   "execution_count": 28,
   "metadata": {
    "colab": {
     "base_uri": "https://localhost:8080/",
     "height": 1000
    },
    "executionInfo": {
     "elapsed": 7664394,
     "status": "ok",
     "timestamp": 1601448954684,
     "user": {
      "displayName": "Tejas Malik",
      "photoUrl": "https://lh3.googleusercontent.com/a-/AOh14Gg2UfXQuz0Tq0m0A2wcVXoRWWkr9W9_230vnTOQXw=s64",
      "userId": "10799008024925547284"
     },
     "user_tz": -330
    },
    "id": "_AYE9d2PHMe9",
    "outputId": "28618900-f915-479c-cc34-068a0689b046"
   },
   "outputs": [
    {
     "name": "stdout",
     "output_type": "stream",
     "text": [
      "Epoch 1/100\n",
      "944/944 [==============================] - 74s 78ms/step - loss: 4.5872\n",
      "Epoch 2/100\n",
      "944/944 [==============================] - 77s 81ms/step - loss: 4.3551\n",
      "Epoch 3/100\n",
      "944/944 [==============================] - 77s 81ms/step - loss: 4.1278\n",
      "Epoch 4/100\n",
      "944/944 [==============================] - 77s 81ms/step - loss: 3.9031\n",
      "Epoch 5/100\n",
      "944/944 [==============================] - 77s 81ms/step - loss: 3.6856\n",
      "Epoch 6/100\n",
      "944/944 [==============================] - 77s 81ms/step - loss: 3.4677\n",
      "Epoch 7/100\n",
      "944/944 [==============================] - 77s 81ms/step - loss: 3.2511\n",
      "Epoch 8/100\n",
      "944/944 [==============================] - 77s 81ms/step - loss: 3.0463\n",
      "Epoch 9/100\n",
      "944/944 [==============================] - 77s 81ms/step - loss: 2.8473\n",
      "Epoch 10/100\n",
      "944/944 [==============================] - 77s 81ms/step - loss: 2.6622\n",
      "Epoch 11/100\n",
      "944/944 [==============================] - 77s 81ms/step - loss: 2.4929\n",
      "Epoch 12/100\n",
      "944/944 [==============================] - 77s 81ms/step - loss: 2.3236\n",
      "Epoch 13/100\n",
      "944/944 [==============================] - 77s 81ms/step - loss: 2.1809\n",
      "Epoch 14/100\n",
      "944/944 [==============================] - 77s 81ms/step - loss: 2.0475\n",
      "Epoch 15/100\n",
      "944/944 [==============================] - 77s 81ms/step - loss: 1.9242\n",
      "Epoch 16/100\n",
      "944/944 [==============================] - 77s 81ms/step - loss: 1.8173\n",
      "Epoch 17/100\n",
      "944/944 [==============================] - 77s 81ms/step - loss: 1.7162\n",
      "Epoch 18/100\n",
      "944/944 [==============================] - 77s 81ms/step - loss: 1.6240\n",
      "Epoch 19/100\n",
      "944/944 [==============================] - 77s 81ms/step - loss: 1.5395\n",
      "Epoch 20/100\n",
      "944/944 [==============================] - 77s 81ms/step - loss: 1.4677\n",
      "Epoch 21/100\n",
      "944/944 [==============================] - 77s 81ms/step - loss: 1.3995\n",
      "Epoch 22/100\n",
      "944/944 [==============================] - 77s 81ms/step - loss: 1.3289\n",
      "Epoch 23/100\n",
      "944/944 [==============================] - 77s 81ms/step - loss: 1.2713\n",
      "Epoch 24/100\n",
      "944/944 [==============================] - 77s 81ms/step - loss: 1.2037\n",
      "Epoch 25/100\n",
      "944/944 [==============================] - 77s 81ms/step - loss: 1.1577\n",
      "Epoch 26/100\n",
      "944/944 [==============================] - 77s 81ms/step - loss: 1.0980\n",
      "Epoch 27/100\n",
      "944/944 [==============================] - 77s 81ms/step - loss: 1.0493\n",
      "Epoch 28/100\n",
      "944/944 [==============================] - 77s 81ms/step - loss: 1.0087\n",
      "Epoch 29/100\n",
      "944/944 [==============================] - 77s 81ms/step - loss: 0.9677\n",
      "Epoch 30/100\n",
      "944/944 [==============================] - 77s 81ms/step - loss: 0.9286\n",
      "Epoch 31/100\n",
      "944/944 [==============================] - 77s 81ms/step - loss: 0.8957\n",
      "Epoch 32/100\n",
      "944/944 [==============================] - 77s 81ms/step - loss: 0.8653\n",
      "Epoch 33/100\n",
      "944/944 [==============================] - 77s 81ms/step - loss: 0.8181\n",
      "Epoch 34/100\n",
      "944/944 [==============================] - 77s 81ms/step - loss: 0.7937\n",
      "Epoch 35/100\n",
      "944/944 [==============================] - 77s 81ms/step - loss: 0.7686\n",
      "Epoch 36/100\n",
      "944/944 [==============================] - 77s 81ms/step - loss: 0.7411\n",
      "Epoch 37/100\n",
      "944/944 [==============================] - 77s 81ms/step - loss: 0.7064\n",
      "Epoch 38/100\n",
      "944/944 [==============================] - 77s 81ms/step - loss: 0.6934\n",
      "Epoch 39/100\n",
      "944/944 [==============================] - 77s 81ms/step - loss: 0.6869\n",
      "Epoch 40/100\n",
      "944/944 [==============================] - 77s 81ms/step - loss: 0.6484\n",
      "Epoch 41/100\n",
      "944/944 [==============================] - 77s 81ms/step - loss: 0.6254\n",
      "Epoch 42/100\n",
      "944/944 [==============================] - 77s 81ms/step - loss: 0.6135\n",
      "Epoch 43/100\n",
      "944/944 [==============================] - 77s 81ms/step - loss: 0.5936\n",
      "Epoch 44/100\n",
      "944/944 [==============================] - 77s 81ms/step - loss: 0.5780\n",
      "Epoch 45/100\n",
      "944/944 [==============================] - 77s 81ms/step - loss: 0.5695\n",
      "Epoch 46/100\n",
      "944/944 [==============================] - 77s 81ms/step - loss: 0.5497\n",
      "Epoch 47/100\n",
      "944/944 [==============================] - 77s 81ms/step - loss: 0.5228\n",
      "Epoch 48/100\n",
      "944/944 [==============================] - 76s 81ms/step - loss: 0.5244\n",
      "Epoch 49/100\n",
      "944/944 [==============================] - 77s 81ms/step - loss: 0.5121\n",
      "Epoch 50/100\n",
      "944/944 [==============================] - 77s 81ms/step - loss: 0.5031\n",
      "Epoch 51/100\n",
      "944/944 [==============================] - 77s 81ms/step - loss: 0.4787\n",
      "Epoch 52/100\n",
      "944/944 [==============================] - 77s 81ms/step - loss: 0.4641\n",
      "Epoch 53/100\n",
      "944/944 [==============================] - 76s 81ms/step - loss: 0.4719\n",
      "Epoch 54/100\n",
      "944/944 [==============================] - 77s 81ms/step - loss: 0.4480\n",
      "Epoch 55/100\n",
      "944/944 [==============================] - 77s 81ms/step - loss: 0.4429\n",
      "Epoch 56/100\n",
      "944/944 [==============================] - 77s 81ms/step - loss: 0.4355\n",
      "Epoch 57/100\n",
      "944/944 [==============================] - 77s 81ms/step - loss: 0.4269\n",
      "Epoch 58/100\n",
      "944/944 [==============================] - 77s 81ms/step - loss: 0.4188\n",
      "Epoch 59/100\n",
      "944/944 [==============================] - 77s 81ms/step - loss: 0.3950\n",
      "Epoch 60/100\n",
      "944/944 [==============================] - 76s 81ms/step - loss: 0.4186\n",
      "Epoch 61/100\n",
      "944/944 [==============================] - 77s 81ms/step - loss: 0.3895\n",
      "Epoch 62/100\n",
      "944/944 [==============================] - 76s 81ms/step - loss: 0.4003\n",
      "Epoch 63/100\n",
      "944/944 [==============================] - 77s 81ms/step - loss: 0.3735\n",
      "Epoch 64/100\n",
      "944/944 [==============================] - 76s 81ms/step - loss: 0.3859\n",
      "Epoch 65/100\n",
      "944/944 [==============================] - 77s 81ms/step - loss: 0.3709\n",
      "Epoch 66/100\n",
      "944/944 [==============================] - 76s 81ms/step - loss: 0.3777\n",
      "Epoch 67/100\n",
      "944/944 [==============================] - 77s 81ms/step - loss: 0.3649\n",
      "Epoch 68/100\n",
      "944/944 [==============================] - 77s 81ms/step - loss: 0.3600\n",
      "Epoch 69/100\n",
      "944/944 [==============================] - 77s 81ms/step - loss: 0.3457\n",
      "Epoch 70/100\n",
      "944/944 [==============================] - 76s 81ms/step - loss: 0.3542\n",
      "Epoch 71/100\n",
      "944/944 [==============================] - 77s 81ms/step - loss: 0.3412\n",
      "Epoch 72/100\n",
      "944/944 [==============================] - 76s 81ms/step - loss: 0.3440\n",
      "Epoch 73/100\n",
      "944/944 [==============================] - 77s 81ms/step - loss: 0.3257\n",
      "Epoch 74/100\n",
      "944/944 [==============================] - 76s 81ms/step - loss: 0.3502\n",
      "Epoch 75/100\n",
      "944/944 [==============================] - 77s 81ms/step - loss: 0.3227\n",
      "Epoch 76/100\n",
      "944/944 [==============================] - 77s 81ms/step - loss: 0.3198\n",
      "Epoch 77/100\n",
      "944/944 [==============================] - 77s 81ms/step - loss: 0.3120\n",
      "Epoch 78/100\n",
      "944/944 [==============================] - 76s 81ms/step - loss: 0.3210\n",
      "Epoch 79/100\n",
      "944/944 [==============================] - 76s 81ms/step - loss: 0.3307\n",
      "Epoch 80/100\n",
      "944/944 [==============================] - 77s 81ms/step - loss: 0.3074\n",
      "Epoch 81/100\n",
      "944/944 [==============================] - 76s 81ms/step - loss: 0.3113\n",
      "Epoch 82/100\n",
      "944/944 [==============================] - 76s 81ms/step - loss: 0.3077\n",
      "Epoch 83/100\n",
      "944/944 [==============================] - 76s 81ms/step - loss: 0.3082\n",
      "Epoch 84/100\n",
      "944/944 [==============================] - 77s 81ms/step - loss: 0.2879\n",
      "Epoch 85/100\n",
      "944/944 [==============================] - 77s 81ms/step - loss: 0.2848\n",
      "Epoch 86/100\n",
      "944/944 [==============================] - 76s 81ms/step - loss: 0.2898\n",
      "Epoch 87/100\n",
      "944/944 [==============================] - 76s 81ms/step - loss: 0.3108\n",
      "Epoch 88/100\n",
      "944/944 [==============================] - 76s 81ms/step - loss: 0.2862\n",
      "Epoch 89/100\n",
      "944/944 [==============================] - 76s 81ms/step - loss: 0.2943\n",
      "Epoch 90/100\n",
      "944/944 [==============================] - 77s 81ms/step - loss: 0.2783\n",
      "Epoch 91/100\n",
      "944/944 [==============================] - 76s 81ms/step - loss: 0.2824\n",
      "Epoch 92/100\n",
      "944/944 [==============================] - 76s 81ms/step - loss: 0.2820\n",
      "Epoch 93/100\n",
      "944/944 [==============================] - 77s 81ms/step - loss: 0.2780\n",
      "Epoch 94/100\n",
      "944/944 [==============================] - 77s 81ms/step - loss: 0.2708\n",
      "Epoch 95/100\n",
      "944/944 [==============================] - 76s 81ms/step - loss: 0.2756\n",
      "Epoch 96/100\n",
      "944/944 [==============================] - 76s 81ms/step - loss: 0.2772\n",
      "Epoch 97/100\n",
      "944/944 [==============================] - 76s 81ms/step - loss: 0.2712\n",
      "Epoch 98/100\n",
      "944/944 [==============================] - 76s 81ms/step - loss: 0.3359\n",
      "Epoch 99/100\n",
      "944/944 [==============================] - 77s 81ms/step - loss: 0.2509\n",
      "Epoch 100/100\n",
      "944/944 [==============================] - 77s 81ms/step - loss: 0.2453\n"
     ]
    }
   ],
   "source": [
    "# Train the neural network\n",
    "\n",
    "filepath = \"weights-improvement-{epoch:02d}-{loss:.4f}-bigger.hdf5\"\n",
    "\n",
    "checkpoint = ModelCheckpoint(\n",
    "    filepath,\n",
    "    monitor='loss',\n",
    "    verbose=0,\n",
    "    save_best_only=True,\n",
    "    mode='min')\n",
    "\n",
    "callbacks_list = [checkpoint]\n",
    "\n",
    "model_his = model.fit(network_input, network_output, epochs=100, batch_size=64, callbacks=callbacks_list)"
   ]
  },
  {
   "cell_type": "code",
   "execution_count": 47,
   "metadata": {
    "colab": {
     "base_uri": "https://localhost:8080/",
     "height": 89
    },
    "executionInfo": {
     "elapsed": 2885,
     "status": "ok",
     "timestamp": 1601451537952,
     "user": {
      "displayName": "Tejas Malik",
      "photoUrl": "https://lh3.googleusercontent.com/a-/AOh14Gg2UfXQuz0Tq0m0A2wcVXoRWWkr9W9_230vnTOQXw=s64",
      "userId": "10799008024925547284"
     },
     "user_tz": -330
    },
    "id": "On3luS5nHgkp",
    "outputId": "2f153211-364b-45b4-c82b-54c5e519248d"
   },
   "outputs": [
    {
     "name": "stdout",
     "output_type": "stream",
     "text": [
      "WARNING:tensorflow:Layer lstm_1 will not use cuDNN kernel since it doesn't meet the cuDNN kernel criteria. It will use generic GPU kernel as fallback when running on GPU\n",
      "WARNING:tensorflow:Layer lstm_2 will not use cuDNN kernel since it doesn't meet the cuDNN kernel criteria. It will use generic GPU kernel as fallback when running on GPU\n",
      "WARNING:tensorflow:Layer lstm_3 will not use cuDNN kernel since it doesn't meet the cuDNN kernel criteria. It will use generic GPU kernel as fallback when running on GPU\n"
     ]
    }
   ],
   "source": [
    "model = load_model(\"weights-improvement-99-0.2509-bigger.hdf5\")"
   ]
  },
  {
   "cell_type": "markdown",
   "metadata": {
    "id": "dx8-EAc9zpmY"
   },
   "source": [
    "## **Predict Notes**"
   ]
  },
  {
   "cell_type": "code",
   "execution_count": 48,
   "metadata": {
    "executionInfo": {
     "elapsed": 1423,
     "status": "ok",
     "timestamp": 1601451550789,
     "user": {
      "displayName": "Tejas Malik",
      "photoUrl": "https://lh3.googleusercontent.com/a-/AOh14Gg2UfXQuz0Tq0m0A2wcVXoRWWkr9W9_230vnTOQXw=s64",
      "userId": "10799008024925547284"
     },
     "user_tz": -330
    },
    "id": "ysvhI11Jztbv"
   },
   "outputs": [],
   "source": [
    "#  This is done beacuse we need network_input as list, and we had converted it into ndarray to feed into network\n",
    "#  so, to get back the list.\n",
    "\n",
    "sequence_length = 100\n",
    "network_input = []\n",
    "for i in range(0, len(notes) - sequence_length, 1):\n",
    "    sequence_in = notes[i:i + sequence_length]\n",
    "    network_input.append([note_to_int[char] for char in sequence_in])"
   ]
  },
  {
   "cell_type": "code",
   "execution_count": 49,
   "metadata": {
    "executionInfo": {
     "elapsed": 25497,
     "status": "ok",
     "timestamp": 1601451577651,
     "user": {
      "displayName": "Tejas Malik",
      "photoUrl": "https://lh3.googleusercontent.com/a-/AOh14Gg2UfXQuz0Tq0m0A2wcVXoRWWkr9W9_230vnTOQXw=s64",
      "userId": "10799008024925547284"
     },
     "user_tz": -330
    },
    "id": "-VhSjhRPzzdt"
   },
   "outputs": [],
   "source": [
    "# Generate notes from the neural network based on a sequence of notes\n",
    "\n",
    "# pick a random sequence from the input as a starting point for the prediction\n",
    "start = numpy.random.randint(0, len(network_input)-1)\n",
    "\n",
    "# Mapping from int to note\n",
    "int_to_note = dict((number, note) for number, note in enumerate(pitchnames))\n",
    "\n",
    "# initial pattern\n",
    "pattern = network_input[start]\n",
    "prediction_output = []\n",
    "\n",
    "# generate 200 notes\n",
    "for note_index in range(200):\n",
    "    prediction_input = numpy.reshape(pattern, (1, len(pattern), 1))\n",
    "    prediction_input = prediction_input / float(n_vocab)\n",
    "\n",
    "    prediction = model.predict(prediction_input, verbose=0)\n",
    "\n",
    "    index = numpy.argmax(prediction)\n",
    "    result = int_to_note[index]\n",
    "    prediction_output.append(result)\n",
    "\n",
    "    \n",
    "    # Remove the first value, and append the recent value.. \n",
    "    # This way input is moving forward step-by-step with time..\n",
    "    pattern.append(index)\n",
    "    pattern = pattern[1:len(pattern)]"
   ]
  },
  {
   "cell_type": "code",
   "execution_count": 50,
   "metadata": {
    "colab": {
     "base_uri": "https://localhost:8080/",
     "height": 55
    },
    "executionInfo": {
     "elapsed": 974,
     "status": "ok",
     "timestamp": 1601451581241,
     "user": {
      "displayName": "Tejas Malik",
      "photoUrl": "https://lh3.googleusercontent.com/a-/AOh14Gg2UfXQuz0Tq0m0A2wcVXoRWWkr9W9_230vnTOQXw=s64",
      "userId": "10799008024925547284"
     },
     "user_tz": -330
    },
    "id": "ZpeglHfaz7Vq",
    "outputId": "fe5c9390-9f34-41a0-8975-601c9f240094"
   },
   "outputs": [
    {
     "name": "stdout",
     "output_type": "stream",
     "text": [
      "['C#4', 'F4', 'C#2', 'E-4', 'F#4', '8+1', 'F1', 'F4', 'G#4', 'G#1', 'A4', 'D2', '9+2', '9+2', 'A1', '11+4', 'D2', 'C#5', 'F#1', 'A1', 'B4', 'E2', '2+8', '8+11', 'E2', 'E5', 'F#2', '9+1', 'G#1', '8+11', 'C#5', 'F#1', '1+6', 'B4', 'C#5', 'B4', 'F#2', 'A4', 'G#2', '9+1', 'G#4', 'C#2', 'F#2', 'B4', 'F#1', '1+6', 'A4', 'F#2', 'G#4', 'G#2', '8+11', 'E4', 'C#2', 'F#4', 'D1', '9+2', '9+2', 'A1', 'E4', 'F#4', 'D2', '11+4', 'G#4', 'F#1', '9+2', 'A4', 'A1', 'G#4', 'E1', '8+11', 'B4', 'E2', 'A4', 'B4', 'A3', 'A4', 'F#2', 'G#4', 'G#1', '8+11', 'F#4', 'F#2', '10+1', 'F#2', 'G#2', '8+1', 'C#2', '5', 'F#2', '10+1', 'F#2', 'G#2', '8+1', 'C#2', '5', 'G5', 'G5', 'D5', 'F#5', 'F5', 'G5', 'C5', 'E5', 'D5', 'G5', 'D4', 'A4', 'C5', '7+11+2', 'B5', 'C6', 'D6', 'C6', 'G5', 'F5', '7+9+0', '5+9+0', '7+11+2', 'B5', 'C6', 'D6', 'B5', 'G5', 'E6', '7+9+0', 'D6', '5+9+0', '7+11+2', 'B5', 'C6', 'D6', 'B5', 'G5', '7+9+0', 'F5', '5+9+0', 'G5', 'A5', 'G5', '3+7+10', '7+10+0+3', 'B-5', 'A5', 'G5', '7+11+2', 'B3', '2+7', 'B4', 'C5', 'D5', 'B4', 'G4', '7+11', 'F4', 'C3', 'F2', 'A4', 'B3', '2+7', 'B4', 'C5', 'D5', 'B4', 'G4', '6+7+11', 'C3', '9+0', 'B3', 'G4', 'A4', 'B-3', '2+7', 'B4', 'C5', 'B4', 'B4', 'G4', '4+7+11', 'C3', 'A4', 'B3', '2+7', 'B4', 'C5', 'G5', 'B4', '4', 'F2', 'C5', 'E5', 'A4', 'E-5', '5', 'C#5', 'C5', 'F5', 'B4', 'G4', 'F5', 'C3']\n"
     ]
    }
   ],
   "source": [
    "#  Our newly generated song (mix of chords and notes)\n",
    "print(prediction_output)"
   ]
  },
  {
   "cell_type": "markdown",
   "metadata": {
    "id": "24X4sGVD0Xcc"
   },
   "source": [
    "## **Create Midi File**"
   ]
  },
  {
   "cell_type": "code",
   "execution_count": 51,
   "metadata": {
    "executionInfo": {
     "elapsed": 886,
     "status": "ok",
     "timestamp": 1601451586122,
     "user": {
      "displayName": "Tejas Malik",
      "photoUrl": "https://lh3.googleusercontent.com/a-/AOh14Gg2UfXQuz0Tq0m0A2wcVXoRWWkr9W9_230vnTOQXw=s64",
      "userId": "10799008024925547284"
     },
     "user_tz": -330
    },
    "id": "fft3aPrD0a_k"
   },
   "outputs": [],
   "source": [
    "# Convert the output from the prediction to notes and create a midi file from the notes\n",
    "\n",
    "offset = 0 # Time\n",
    "output_notes = []\n",
    "\n",
    "# create note and chord objects based on the values generated by the model\n",
    "for pattern in prediction_output:\n",
    "    \n",
    "    # if pattern is a chord\n",
    "    if ('+' in pattern) or pattern.isdigit():\n",
    "        notes_in_chord = pattern.split('+') # split all the notes from a chord\n",
    "        notes = []\n",
    "        for current_note in notes_in_chord: \n",
    "            new_note = note.Note(int(current_note)) # create Note object for each note in the chord\n",
    "            new_note.storedInstrument = instrument.Piano() \n",
    "            notes.append(new_note) # list of Notes()\n",
    "            \n",
    "        new_chord = chord.Chord(notes)  # Create the Chord() from the list of notes.\n",
    "        new_chord.offset = offset # set offset to the element\n",
    "        output_notes.append(new_chord) \n",
    "        \n",
    "    # if pattern is a note\n",
    "    else:\n",
    "        new_note = note.Note(pattern) #  create Note object\n",
    "        new_note.offset = offset # set offset  (basically timestamp)\n",
    "        new_note.storedInstrument = instrument.Piano()\n",
    "        output_notes.append(new_note) \n",
    "\n",
    "    # increase offset each iteration so that notes do not stack (time stamp)\n",
    "    offset += 0.5"
   ]
  },
  {
   "cell_type": "code",
   "execution_count": 52,
   "metadata": {
    "colab": {
     "base_uri": "https://localhost:8080/",
     "height": 884
    },
    "executionInfo": {
     "elapsed": 898,
     "status": "ok",
     "timestamp": 1601451589319,
     "user": {
      "displayName": "Tejas Malik",
      "photoUrl": "https://lh3.googleusercontent.com/a-/AOh14Gg2UfXQuz0Tq0m0A2wcVXoRWWkr9W9_230vnTOQXw=s64",
      "userId": "10799008024925547284"
     },
     "user_tz": -330
    },
    "id": "tLc_XWDS0mh7",
    "outputId": "ef11ae95-1853-4728-80e3-fab4b2b88367"
   },
   "outputs": [
    {
     "data": {
      "text/plain": [
       "[<music21.note.Note C#>,\n",
       " <music21.note.Note F>,\n",
       " <music21.note.Note C#>,\n",
       " <music21.note.Note E->,\n",
       " <music21.note.Note F#>,\n",
       " <music21.chord.Chord G# C#>,\n",
       " <music21.note.Note F>,\n",
       " <music21.note.Note F>,\n",
       " <music21.note.Note G#>,\n",
       " <music21.note.Note G#>,\n",
       " <music21.note.Note A>,\n",
       " <music21.note.Note D>,\n",
       " <music21.chord.Chord A D>,\n",
       " <music21.chord.Chord A D>,\n",
       " <music21.note.Note A>,\n",
       " <music21.chord.Chord B E>,\n",
       " <music21.note.Note D>,\n",
       " <music21.note.Note C#>,\n",
       " <music21.note.Note F#>,\n",
       " <music21.note.Note A>,\n",
       " <music21.note.Note B>,\n",
       " <music21.note.Note E>,\n",
       " <music21.chord.Chord D G#>,\n",
       " <music21.chord.Chord G# B>,\n",
       " <music21.note.Note E>,\n",
       " <music21.note.Note E>,\n",
       " <music21.note.Note F#>,\n",
       " <music21.chord.Chord A C#>,\n",
       " <music21.note.Note G#>,\n",
       " <music21.chord.Chord G# B>,\n",
       " <music21.note.Note C#>,\n",
       " <music21.note.Note F#>,\n",
       " <music21.chord.Chord C# F#>,\n",
       " <music21.note.Note B>,\n",
       " <music21.note.Note C#>,\n",
       " <music21.note.Note B>,\n",
       " <music21.note.Note F#>,\n",
       " <music21.note.Note A>,\n",
       " <music21.note.Note G#>,\n",
       " <music21.chord.Chord A C#>,\n",
       " <music21.note.Note G#>,\n",
       " <music21.note.Note C#>,\n",
       " <music21.note.Note F#>,\n",
       " <music21.note.Note B>,\n",
       " <music21.note.Note F#>,\n",
       " <music21.chord.Chord C# F#>,\n",
       " <music21.note.Note A>,\n",
       " <music21.note.Note F#>,\n",
       " <music21.note.Note G#>,\n",
       " <music21.note.Note G#>]"
      ]
     },
     "execution_count": 52,
     "metadata": {
      "tags": []
     },
     "output_type": "execute_result"
    }
   ],
   "source": [
    "output_notes[:50]"
   ]
  },
  {
   "cell_type": "code",
   "execution_count": 53,
   "metadata": {
    "colab": {
     "base_uri": "https://localhost:8080/",
     "height": 35
    },
    "executionInfo": {
     "elapsed": 1260,
     "status": "ok",
     "timestamp": 1601451595588,
     "user": {
      "displayName": "Tejas Malik",
      "photoUrl": "https://lh3.googleusercontent.com/a-/AOh14Gg2UfXQuz0Tq0m0A2wcVXoRWWkr9W9_230vnTOQXw=s64",
      "userId": "10799008024925547284"
     },
     "user_tz": -330
    },
    "id": "z852QKd30qaH",
    "outputId": "009b0e73-cdc6-42bb-89b3-b748bd1035df"
   },
   "outputs": [
    {
     "data": {
      "application/vnd.google.colaboratory.intrinsic+json": {
       "type": "string"
      },
      "text/plain": [
       "'test_output.mid'"
      ]
     },
     "execution_count": 53,
     "metadata": {
      "tags": []
     },
     "output_type": "execute_result"
    }
   ],
   "source": [
    "#  Create a Steam Object from our generated Notes, and write to the file. \n",
    "midi_stream = stream.Stream(output_notes)\n",
    "midi_stream.write('midi', fp='test_output.mid')"
   ]
  },
  {
   "cell_type": "markdown",
   "metadata": {
    "id": "4OY9rlyN03qv"
   },
   "source": [
    "# **Play Music**"
   ]
  },
  {
   "cell_type": "code",
   "execution_count": 54,
   "metadata": {
    "colab": {
     "base_uri": "https://localhost:8080/",
     "height": 17
    },
    "executionInfo": {
     "elapsed": 1004,
     "status": "ok",
     "timestamp": 1601451598935,
     "user": {
      "displayName": "Tejas Malik",
      "photoUrl": "https://lh3.googleusercontent.com/a-/AOh14Gg2UfXQuz0Tq0m0A2wcVXoRWWkr9W9_230vnTOQXw=s64",
      "userId": "10799008024925547284"
     },
     "user_tz": -330
    },
    "id": "TUNGsCfb0xbJ",
    "outputId": "e8374130-ab5c-4b92-8bf5-d12cab29002a"
   },
   "outputs": [
    {
     "data": {
      "text/html": [
       "\n",
       "                <div id='midiPlayerDiv417180'></div>\n",
       "                <link rel=\"stylesheet\" href=\"//cuthbertLab.github.io/music21j/css/m21.css\"\n",
       "                    type=\"text/css\" />\n",
       "                <script>\n",
       "                require.config({\n",
       "                    paths: {'music21': '//cuthbertLab.github.io/music21j/src/music21'}\n",
       "                });\n",
       "                require(['music21'], function() {\n",
       "                               mp = new music21.miditools.MidiPlayer();\n",
       "                               mp.addPlayer('#midiPlayerDiv417180');\n",
       "                               mp.base64Load('data:audio/midi;base64,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');\n",
       "                        });\n",
       "                </script>"
      ],
      "text/plain": [
       "<IPython.core.display.HTML object>"
      ]
     },
     "metadata": {
      "tags": []
     },
     "output_type": "display_data"
    }
   ],
   "source": [
    "midi_stream.show('midi')"
   ]
  },
  {
   "cell_type": "code",
   "execution_count": null,
   "metadata": {
    "id": "Gn1gTJ4B6VrP"
   },
   "outputs": [],
   "source": []
  }
 ],
 "metadata": {
  "accelerator": "GPU",
  "colab": {
   "authorship_tag": "ABX9TyOGTnmGOzxa2bVB0dfRHLXp",
   "collapsed_sections": [],
   "name": "Music Generator using LSTM.ipynb",
   "provenance": []
  },
  "kernelspec": {
   "display_name": "Python 3",
   "language": "python",
   "name": "python3"
  },
  "language_info": {
   "codemirror_mode": {
    "name": "ipython",
    "version": 3
   },
   "file_extension": ".py",
   "mimetype": "text/x-python",
   "name": "python",
   "nbconvert_exporter": "python",
   "pygments_lexer": "ipython3",
   "version": "3.7.6"
  }
 },
 "nbformat": 4,
 "nbformat_minor": 1
}
